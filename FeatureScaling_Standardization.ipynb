{
 "cells": [
  {
   "cell_type": "markdown",
   "id": "b2ff1422-a8c6-4b96-a7e7-cf7d005f6517",
   "metadata": {},
   "source": [
    "Scikit-learn offers various preprocessing utilities to transform and prepare your data before feeding it into a machine learning model. \n",
    "\n",
    "1. Scaling\n",
    "Scaling transforms the features to a similar range, typically between a fixed minimum and maximum value.\n",
    "\n",
    "Standardization (StandardScaler)\n",
    "Standardization scales the features to have zero mean and unit variance."
   ]
  },
  {
   "cell_type": "code",
   "execution_count": null,
   "id": "bb08d783-88d6-4f6a-9cc4-f882951a2e04",
   "metadata": {
    "tags": []
   },
   "outputs": [],
   "source": [
    "from sklearn.preprocessing import StandardScaler\n",
    "import numpy as np\n",
    "\n",
    "# Example data\n",
    "X = np.array([[1, 2], [3, 4], [5, 6], [7, 8]])\n",
    "\n",
    "# Initialize the scaler\n",
    "scaler = StandardScaler()\n",
    "\n",
    "# Fit and transform the data\n",
    "X_scaled = scaler.fit_transform(X)\n",
    "\n",
    "print(\"Original Data:\\n\", X)\n",
    "print(\"Scaled Data:\\n\", X_scaled)"
   ]
  },
  {
   "cell_type": "markdown",
   "id": "f8432a63-c5c1-4779-8c11-ba20635cc948",
   "metadata": {},
   "source": [
    "Min-Max Scaling (MinMaxScaler)\n",
    "Min-Max Scaling scales the features to a fixed range, usually [0, 1]."
   ]
  },
  {
   "cell_type": "code",
   "execution_count": null,
   "id": "e1b029bb-f1ae-4ac3-8143-ee29d5fb5638",
   "metadata": {
    "tags": []
   },
   "outputs": [],
   "source": [
    "from sklearn.preprocessing import MinMaxScaler\n",
    "\n",
    "# Initialize the scaler\n",
    "min_max_scaler = MinMaxScaler()\n",
    "\n",
    "# Fit and transform the data\n",
    "X_min_max_scaled = min_max_scaler.fit_transform(X)\n",
    "\n",
    "print(\"Min-Max Scaled Data:\\n\", X_min_max_scaled)"
   ]
  },
  {
   "cell_type": "markdown",
   "id": "cd73e879-47ea-4fca-8c5e-53b078a342cc",
   "metadata": {},
   "source": [
    "2. Normalization\n",
    "Normalization rescales each sample to have unit norm."
   ]
  },
  {
   "cell_type": "code",
   "execution_count": null,
   "id": "dba39c7d-c959-4645-a668-a380ddadb15d",
   "metadata": {
    "tags": []
   },
   "outputs": [],
   "source": [
    "from sklearn.preprocessing import Normalizer\n",
    "\n",
    "# Initialize the normalizer\n",
    "normalizer = Normalizer()\n",
    "\n",
    "# Fit and transform the data\n",
    "X_normalized = normalizer.fit_transform(X)\n",
    "\n",
    "print(\"Normalized Data:\\n\", X_normalized)"
   ]
  },
  {
   "cell_type": "markdown",
   "id": "a067da5a-f670-4343-a4de-ddf810a76856",
   "metadata": {},
   "source": [
    "3. Encoding Categorical Variables\n",
    "\n",
    "One-Hot Encoding (OneHotEncoder)\n",
    "\n",
    "One-hot encoding converts categorical values into a set of binary features."
   ]
  },
  {
   "cell_type": "code",
   "execution_count": null,
   "id": "c68dd715-c029-47ba-bf00-8ac03ec2361c",
   "metadata": {
    "tags": []
   },
   "outputs": [],
   "source": [
    "from sklearn.preprocessing import OneHotEncoder\n",
    "\n",
    "# Example categorical data\n",
    "categories = np.array([['red'], ['green'], ['blue'], ['green']])\n",
    "\n",
    "# Initialize the encoder\n",
    "encoder = OneHotEncoder()\n",
    "\n",
    "# Fit and transform the data\n",
    "categories_encoded = encoder.fit_transform(categories).toarray()\n",
    "\n",
    "print(\"Original Categories:\\n\", categories)\n",
    "print(\"One-Hot Encoded Data:\\n\", categories_encoded)"
   ]
  },
  {
   "cell_type": "markdown",
   "id": "7238db7c-6aa7-46ed-a668-c5f5e84d19da",
   "metadata": {},
   "source": [
    "Label Encoding (LabelEncoder)\n",
    "\n",
    "Label encoding assigns a unique integer to each category."
   ]
  },
  {
   "cell_type": "code",
   "execution_count": null,
   "id": "47df95ab-3dcb-4900-820e-33117afe8858",
   "metadata": {
    "tags": []
   },
   "outputs": [],
   "source": [
    "from sklearn.preprocessing import LabelEncoder\n",
    "\n",
    "# Initialize the encoder\n",
    "label_encoder = LabelEncoder()\n",
    "\n",
    "# Fit and transform the data\n",
    "categories_label_encoded = label_encoder.fit_transform(categories.ravel())\n",
    "\n",
    "print(\"Label Encoded Data:\\n\", categories_label_encoded)\n"
   ]
  },
  {
   "cell_type": "markdown",
   "id": "81f6fd5b-bdfc-429b-b425-b71d5f91a403",
   "metadata": {},
   "source": [
    "4. Handling Missing Values\n",
    "\n",
    "Imputation (SimpleImputer)\n",
    "\n",
    "Imputation fills missing values with a specific value, such as the mean, median, or most frequent value."
   ]
  },
  {
   "cell_type": "code",
   "execution_count": 25,
   "id": "16a854e9-f000-4c09-aad3-5dfc0d2c7140",
   "metadata": {
    "tags": []
   },
   "outputs": [
    {
     "name": "stdout",
     "output_type": "stream",
     "text": [
      "Data with Missing Values:\n",
      " [[ 1.  2.]\n",
      " [nan  3.]\n",
      " [ 7.  6.]\n",
      " [nan  8.]]\n",
      "Imputed Data:\n",
      " [[1. 2.]\n",
      " [1. 3.]\n",
      " [7. 6.]\n",
      " [1. 8.]]\n"
     ]
    }
   ],
   "source": [
    "from sklearn.impute import SimpleImputer\n",
    "\n",
    "# Example data with missing values\n",
    "X_with_nan = np.array([[1, 2], [np.nan, 3], [7, 6], [np.nan, 8]])\n",
    "\n",
    "# Initialize the imputer\n",
    "imputer = SimpleImputer(strategy='most_frequent')\n",
    "\n",
    "# Fit and transform the data\n",
    "X_imputed = imputer.fit_transform(X_with_nan)\n",
    "\n",
    "print(\"Data with Missing Values:\\n\", X_with_nan)\n",
    "print(\"Imputed Data:\\n\", X_imputed)\n"
   ]
  },
  {
   "cell_type": "code",
   "execution_count": null,
   "id": "c3fdbe72-2859-4c58-af7f-2ddbc39d161f",
   "metadata": {},
   "outputs": [],
   "source": []
  }
 ],
 "metadata": {
  "kernelspec": {
   "display_name": "Python 3 (ipykernel)",
   "language": "python",
   "name": "python3"
  },
  "language_info": {
   "codemirror_mode": {
    "name": "ipython",
    "version": 3
   },
   "file_extension": ".py",
   "mimetype": "text/x-python",
   "name": "python",
   "nbconvert_exporter": "python",
   "pygments_lexer": "ipython3",
   "version": "3.11.5"
  }
 },
 "nbformat": 4,
 "nbformat_minor": 5
}
