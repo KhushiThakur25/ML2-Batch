{
 "cells": [
  {
   "cell_type": "code",
   "execution_count": null,
   "id": "758a8a33-d186-4189-8b7b-878237b3e1f4",
   "metadata": {
    "tags": []
   },
   "outputs": [],
   "source": [
    "#Linear regression implementation"
   ]
  },
  {
   "cell_type": "code",
   "execution_count": null,
   "id": "ccd714e7-fa71-47e5-ac6b-8db5067a55e6",
   "metadata": {
    "tags": []
   },
   "outputs": [],
   "source": [
    "import numpy as np\n",
    "import matplotlib.pyplot as plt"
   ]
  },
  {
   "cell_type": "code",
   "execution_count": null,
   "id": "85414510-caf2-4572-b40f-4879483e7276",
   "metadata": {
    "tags": []
   },
   "outputs": [],
   "source": [
    "x = np.array([1,2,3,4,5])\n",
    "y = np.array([2,4,5,4,5])"
   ]
  },
  {
   "cell_type": "code",
   "execution_count": null,
   "id": "9d80cb5c-ec8d-499e-95d4-e07654300cc2",
   "metadata": {
    "tags": []
   },
   "outputs": [],
   "source": [
    "avg_x = x.mean()\n",
    "avg_y = y.mean()"
   ]
  },
  {
   "cell_type": "code",
   "execution_count": null,
   "id": "b0d3893d-27d9-4b2d-9b04-ab0ec9cd4bea",
   "metadata": {
    "tags": []
   },
   "outputs": [],
   "source": [
    "numer = 0\n",
    "deno = 0"
   ]
  },
  {
   "cell_type": "code",
   "execution_count": null,
   "id": "7945b278-48b6-4a6b-93e7-28702f9638d2",
   "metadata": {
    "tags": []
   },
   "outputs": [],
   "source": [
    "for i in range(len(x)):\n",
    "    numer += (x[i] - avg_x)*(y[i] - avg_y)\n",
    "    deno += (x[i] - avg_x)**2\n"
   ]
  },
  {
   "cell_type": "code",
   "execution_count": null,
   "id": "e09900e4-8705-4277-a37b-69d606e5d9ed",
   "metadata": {
    "tags": []
   },
   "outputs": [],
   "source": [
    "slope = numer/deno\n",
    "slope"
   ]
  },
  {
   "cell_type": "code",
   "execution_count": null,
   "id": "60a91e50-9c2a-40f1-855f-e777d0827676",
   "metadata": {
    "tags": []
   },
   "outputs": [],
   "source": [
    "#intercept\n",
    "c = avg_y - slope * avg_x"
   ]
  },
  {
   "cell_type": "code",
   "execution_count": null,
   "id": "b347d2bb-8e7f-4626-8553-cc1ae9be8a49",
   "metadata": {
    "tags": []
   },
   "outputs": [],
   "source": [
    "plt.figure(figsize = (6,4))\n",
    "plt.scatter(x,y)\n",
    "plt.show()"
   ]
  },
  {
   "cell_type": "code",
   "execution_count": null,
   "id": "2bae6d2e-ca46-466a-8ff8-4a75db490e7f",
   "metadata": {
    "tags": []
   },
   "outputs": [],
   "source": [
    "predictions = []\n",
    "for i in range(len(y)):\n",
    "    n = slope*x[i] + c\n",
    "    predictions.append(round(n,2))"
   ]
  },
  {
   "cell_type": "code",
   "execution_count": null,
   "id": "070833e4-80b7-4fee-838c-931745c0dba9",
   "metadata": {
    "tags": []
   },
   "outputs": [],
   "source": [
    "predictions"
   ]
  },
  {
   "cell_type": "code",
   "execution_count": null,
   "id": "d7d906f1-5bc3-4c51-a401-4eb6fe9fa210",
   "metadata": {
    "tags": []
   },
   "outputs": [],
   "source": [
    "plt.figure(figsize = (6,4))\n",
    "plt.scatter(x,y)\n",
    "plt.plot(x,predictions,'r')\n",
    "plt.show()"
   ]
  },
  {
   "cell_type": "code",
   "execution_count": null,
   "id": "22f790d2-731c-4bb4-b04e-e47c065bd229",
   "metadata": {},
   "outputs": [],
   "source": []
  }
 ],
 "metadata": {
  "kernelspec": {
   "display_name": "Python 3 (ipykernel)",
   "language": "python",
   "name": "python3"
  },
  "language_info": {
   "codemirror_mode": {
    "name": "ipython",
    "version": 3
   },
   "file_extension": ".py",
   "mimetype": "text/x-python",
   "name": "python",
   "nbconvert_exporter": "python",
   "pygments_lexer": "ipython3",
   "version": "3.11.5"
  }
 },
 "nbformat": 4,
 "nbformat_minor": 5
}
