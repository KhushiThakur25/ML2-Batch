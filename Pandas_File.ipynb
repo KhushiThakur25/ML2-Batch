{
 "cells": [
  {
   "cell_type": "code",
   "execution_count": null,
   "id": "818d554c-a89d-4a5f-8e9c-39bb5838b75b",
   "metadata": {
    "tags": []
   },
   "outputs": [],
   "source": [
    "import pandas as pd\n",
    "import matplotlib.pyplot as plt\n",
    "import numpy as np"
   ]
  },
  {
   "cell_type": "code",
   "execution_count": null,
   "id": "5569a3d2-b465-4606-892b-92c633c91ab8",
   "metadata": {},
   "outputs": [],
   "source": [
    "\n",
    "df = pd.read_csv(\"diabetes.csv\")\n",
    "df.info()\n",
    "df.keys()\n",
    "pd.unique(df['Pregnancies'])\n",
    "pd.eval(\"double_age = df.Age * 2\",target = df,inplace = True)"
   ]
  },
  {
   "cell_type": "code",
   "execution_count": null,
   "id": "87644f5b-ba5d-4aeb-9fb4-a921a91c4ed6",
   "metadata": {
    "tags": []
   },
   "outputs": [],
   "source": [
    "df.describe()\n",
    "df.iloc[1:3,1:4]\n",
    "df.loc[(df['Age'] > 40)]\n",
    "df[df.index == 5]"
   ]
  },
  {
   "cell_type": "code",
   "execution_count": null,
   "id": "1929eefc-2d89-418f-8d51-8e72a22b3a4a",
   "metadata": {
    "tags": []
   },
   "outputs": [],
   "source": [
    "df.describe(percentiles=[0.3, 0.5, 0.7])\n",
    "df.describe(include=[int])"
   ]
  },
  {
   "cell_type": "code",
   "execution_count": null,
   "id": "1c41217a-6c2d-4848-9159-034a1bb653ea",
   "metadata": {
    "tags": []
   },
   "outputs": [],
   "source": [
    "df.shape # Get the number of rows and columns\n"
   ]
  },
  {
   "cell_type": "code",
   "execution_count": null,
   "id": "77018c94-5c16-438b-886e-aa90d224eb34",
   "metadata": {
    "tags": []
   },
   "outputs": [],
   "source": [
    "df.shape[0] # Get the number of rows only\n"
   ]
  },
  {
   "cell_type": "code",
   "execution_count": null,
   "id": "63e47f54-eb44-4a3a-ae73-a4b9c4440d4c",
   "metadata": {
    "tags": []
   },
   "outputs": [],
   "source": [
    "df.shape[1] # Get the number of columns only"
   ]
  },
  {
   "cell_type": "code",
   "execution_count": null,
   "id": "f9160c74-2072-4d38-aac0-efdd69a35cc2",
   "metadata": {
    "tags": []
   },
   "outputs": [],
   "source": [
    "df.columns\n",
    "list(df.columns)"
   ]
  },
  {
   "cell_type": "code",
   "execution_count": null,
   "id": "6ec82dd7-1460-469b-81c0-6f8cf8ea81ec",
   "metadata": {
    "tags": []
   },
   "outputs": [],
   "source": [
    "df2 = df.copy()"
   ]
  },
  {
   "cell_type": "code",
   "execution_count": null,
   "id": "da72383c-4431-4e11-9661-2881bf52c014",
   "metadata": {
    "tags": []
   },
   "outputs": [],
   "source": [
    "df2"
   ]
  },
  {
   "cell_type": "code",
   "execution_count": null,
   "id": "794b6d01-a175-447e-b465-d2b15a67373a",
   "metadata": {
    "tags": []
   },
   "outputs": [],
   "source": [
    "df2.isnull().sum()"
   ]
  },
  {
   "cell_type": "code",
   "execution_count": null,
   "id": "5b554da3-74e8-463b-ad5c-8343f469ea1b",
   "metadata": {
    "tags": []
   },
   "outputs": [],
   "source": [
    "df2.loc[2:5,'Pregnancies'] = None\n",
    "df2.loc[6:20,'SkinThickness'] = None\n",
    "df2.head(10)"
   ]
  },
  {
   "cell_type": "code",
   "execution_count": null,
   "id": "2417aaa1-2104-426d-b8f7-4cccfafe70b8",
   "metadata": {
    "tags": []
   },
   "outputs": [],
   "source": [
    "df2.isnull().sum()"
   ]
  },
  {
   "cell_type": "code",
   "execution_count": null,
   "id": "5b3ca210-27c3-416d-9b7b-86a1b64ddcc6",
   "metadata": {
    "tags": []
   },
   "outputs": [],
   "source": [
    "df[['Pregnancies', 'Outcome']]"
   ]
  },
  {
   "cell_type": "code",
   "execution_count": null,
   "id": "de5b2521-ba2a-4074-a93e-466d426e5814",
   "metadata": {
    "tags": []
   },
   "outputs": [],
   "source": [
    "df[df.index==1]\n"
   ]
  },
  {
   "cell_type": "code",
   "execution_count": null,
   "id": "659a7cb0-b455-458b-900e-ba81d0903260",
   "metadata": {
    "tags": []
   },
   "outputs": [],
   "source": [
    "df[df.index.isin(range(2,10))]"
   ]
  },
  {
   "cell_type": "code",
   "execution_count": null,
   "id": "76d34496-617e-4257-942f-f0d79d739b00",
   "metadata": {
    "tags": []
   },
   "outputs": [],
   "source": [
    "df[df.Outcome == 1]\n",
    "df.iloc[1:3,1:5]"
   ]
  },
  {
   "cell_type": "code",
   "execution_count": null,
   "id": "8eddbc0e-5c85-489d-957c-471b28d0cd9d",
   "metadata": {
    "tags": []
   },
   "outputs": [],
   "source": [
    "df3 = df2.copy()\n",
    "df3 = df3.dropna()\n",
    "df3.shape"
   ]
  },
  {
   "cell_type": "code",
   "execution_count": null,
   "id": "2ea80393-647a-4cb7-99b7-938f2c441917",
   "metadata": {
    "tags": []
   },
   "outputs": [],
   "source": [
    "df3"
   ]
  },
  {
   "cell_type": "code",
   "execution_count": null,
   "id": "557bfb89-a335-472a-8610-c74499014b8d",
   "metadata": {
    "tags": []
   },
   "outputs": [],
   "source": [
    "df3 = df2.copy()\n",
    "# Get the mean of Pregnancies\n",
    "mean_value = df3['Pregnancies'].mean()\n",
    "# Fill missing values using .fillna()\n",
    "df3 = df3.fillna(mean_value)\n",
    "df3"
   ]
  },
  {
   "cell_type": "code",
   "execution_count": null,
   "id": "bfd84f42-408e-473e-86c6-0a126eebcf93",
   "metadata": {
    "tags": []
   },
   "outputs": [],
   "source": [
    "df3 = df2.copy()\n",
    "# Get the median of Pregnancies\n",
    "median_value = df3['Pregnancies'].median()\n",
    "# Fill missing values using .fillna()\n",
    "df3 = df3.fillna(median_value)\n",
    "df3"
   ]
  },
  {
   "cell_type": "code",
   "execution_count": null,
   "id": "0cc8fedc-27d8-4afa-9ea6-389fbbf5ed49",
   "metadata": {
    "tags": []
   },
   "outputs": [],
   "source": [
    "df3 = df2.copy()\n",
    "# Get the mode of Pregnancies\n",
    "mode_value = df3['Pregnancies'].mode()[0]\n",
    "# Fill missing values using .fillna()\n",
    "df3 = df3.fillna(mode_value)\n",
    "print(mode_value)"
   ]
  },
  {
   "cell_type": "code",
   "execution_count": null,
   "id": "36bbc157-b85b-43bc-99e4-d03c48d0c332",
   "metadata": {
    "tags": []
   },
   "outputs": [],
   "source": [
    "df1 = pd.DataFrame([['a', 1], ['b', 2]],\n",
    "                   columns=['letter', 'number'])"
   ]
  },
  {
   "cell_type": "code",
   "execution_count": null,
   "id": "d3b37652-bf74-4865-9e6f-98757fe600bb",
   "metadata": {
    "tags": []
   },
   "outputs": [],
   "source": [
    "df2 = pd.DataFrame([['c', 3], ['d', 4],['f',5]],\n",
    "                   columns=['letter', 'number'])"
   ]
  },
  {
   "cell_type": "code",
   "execution_count": null,
   "id": "d037719a-450b-4aa4-ad27-4fd33ee965ad",
   "metadata": {
    "tags": []
   },
   "outputs": [],
   "source": [
    "pd.concat([df1,df2], ignore_index=True)"
   ]
  },
  {
   "cell_type": "code",
   "execution_count": null,
   "id": "c20c0e83-5d5d-4402-80c5-86feb466e933",
   "metadata": {
    "tags": []
   },
   "outputs": [],
   "source": [
    "df1 = pd.DataFrame({'lkey': ['foo', 'bar', 'baz', 'foo'],\n",
    "                    'value': [1, 2, 3, 5]})\n",
    "df2 = pd.DataFrame({'rkey': ['foo', 'bar', 'baz', 'foo'],\n",
    "                    'value': [5, 6, 7, 8]})"
   ]
  },
  {
   "cell_type": "code",
   "execution_count": null,
   "id": "7df66728-e07c-4316-9c51-4e6f0fb1fb71",
   "metadata": {
    "tags": []
   },
   "outputs": [],
   "source": [
    "df1.merge(df2, left_on='lkey', right_on='rkey',suffixes = ('_left','_right'))\n"
   ]
  },
  {
   "cell_type": "code",
   "execution_count": null,
   "id": "b40bda67-6c0a-4a95-8e43-5ab4633e6fd9",
   "metadata": {
    "tags": []
   },
   "outputs": [],
   "source": [
    "indices = np.where(df['Pregnancies'] > 13)\n",
    "plt.figure(figsize = (10,10))\n",
    "plt.pie(indices[0],autopct = \"%1.2f%%\", startangle = 90,counterclock = False,shadow = True)\n",
    "plt.title(\"Number of Pregnancies\")\n",
    "plt.show()"
   ]
  },
  {
   "cell_type": "code",
   "execution_count": null,
   "id": "f99e0207-b981-4610-aac4-72f10de10baf",
   "metadata": {},
   "outputs": [],
   "source": []
  }
 ],
 "metadata": {
  "kernelspec": {
   "display_name": "Python 3 (ipykernel)",
   "language": "python",
   "name": "python3"
  },
  "language_info": {
   "codemirror_mode": {
    "name": "ipython",
    "version": 3
   },
   "file_extension": ".py",
   "mimetype": "text/x-python",
   "name": "python",
   "nbconvert_exporter": "python",
   "pygments_lexer": "ipython3",
   "version": "3.11.5"
  }
 },
 "nbformat": 4,
 "nbformat_minor": 5
}
