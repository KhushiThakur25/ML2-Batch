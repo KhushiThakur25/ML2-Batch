{
 "cells": [
  {
   "cell_type": "code",
   "execution_count": 1,
   "id": "1ab186b2-0353-4cbd-99b5-f9ff29361ad4",
   "metadata": {
    "tags": []
   },
   "outputs": [],
   "source": [
    "# !pip install opencv-python"
   ]
  },
  {
   "cell_type": "markdown",
   "id": "6cff43dd-3f02-49dd-9426-6391dd09a60d",
   "metadata": {
    "tags": []
   },
   "source": [
    "#open computer vision\n",
    "OpenCV (Open Source Computer Vision Library) is an open-source computer vision and machine learning library. It provides various methods and attributes for performing tasks like image processing, video capture, feature detection, and more."
   ]
  },
  {
   "cell_type": "code",
   "execution_count": 2,
   "id": "3b40f7fa-ca7d-45d4-bc3b-450edaeb0503",
   "metadata": {},
   "outputs": [
    {
     "data": {
      "text/plain": [
       "True"
      ]
     },
     "execution_count": 2,
     "metadata": {},
     "output_type": "execute_result"
    }
   ],
   "source": [
    "import cv2\n",
    "\n",
    "# Reading an image\n",
    "image = cv2.imread('jerry.jpg')\n",
    "\n",
    "# Writing the image to a file\n",
    "cv2.imwrite('result.jpg', image)"
   ]
  },
  {
   "cell_type": "code",
   "execution_count": 8,
   "id": "f4636692-38ea-4e89-bad9-fb553ddfc1a3",
   "metadata": {
    "tags": []
   },
   "outputs": [
    {
     "data": {
      "text/plain": [
       "-1"
      ]
     },
     "execution_count": 8,
     "metadata": {},
     "output_type": "execute_result"
    }
   ],
   "source": [
    "image = cv2.imread('jerry.jpg')\n",
    "cv2.imshow('Image Window', image)\n",
    "cv2.waitKey(0)\n",
    "\n"
   ]
  },
  {
   "cell_type": "code",
   "execution_count": 9,
   "id": "600d2dd6-567a-4ece-9d94-870ca8562d5b",
   "metadata": {
    "tags": []
   },
   "outputs": [
    {
     "data": {
      "text/plain": [
       "-1"
      ]
     },
     "execution_count": 9,
     "metadata": {},
     "output_type": "execute_result"
    }
   ],
   "source": [
    "resized_image = cv2.resize(image, (100, 200))\n",
    "cv2.imshow('Resized Image', resized_image)\n",
    "cv2.waitKey(0)\n"
   ]
  },
  {
   "cell_type": "code",
   "execution_count": 16,
   "id": "593a6575-f909-489f-99c2-2bceee955a9a",
   "metadata": {
    "tags": []
   },
   "outputs": [
    {
     "data": {
      "text/plain": [
       "True"
      ]
     },
     "execution_count": 16,
     "metadata": {},
     "output_type": "execute_result"
    }
   ],
   "source": [
    "gray_image = cv2.cvtColor(image, cv2.COLOR_BGR2GRAY)\n",
    "#gray_image = cv2.cvtColor(image, cv2.COLOR_BGR2HSV)\n",
    "cv2.imshow('Gray Image', gray_image)\n",
    "cv2.waitKey(0)\n",
    "cv2.destroyAllWindows()\n",
    "\n",
    "image = cv2.imread('jerry.jpg')\n",
    "\n",
    "# Writing the image to a file\n",
    "cv2.imwrite('result2.jpg', gray_image)"
   ]
  },
  {
   "cell_type": "code",
   "execution_count": 17,
   "id": "f42e24ef-e42e-42f6-8210-0c6611537cd2",
   "metadata": {
    "tags": []
   },
   "outputs": [],
   "source": [
    "edges = cv2.Canny(image, 100, 200)\n",
    "cv2.imshow('Edges', edges)\n",
    "cv2.waitKey(0)\n",
    "cv2.destroyAllWindows()"
   ]
  },
  {
   "cell_type": "code",
   "execution_count": 18,
   "id": "fb5f70ae-6037-4d71-a65e-8d8648cd2c9c",
   "metadata": {
    "tags": []
   },
   "outputs": [],
   "source": [
    "cv2.line(image, (0, 0), (255, 255), (255, 0, 0), 5)\n",
    "\n",
    "# Draw a rectangle\n",
    "cv2.rectangle(image, (100, 100), (200, 200), (0, 255, 0), 3)\n",
    "\n",
    "# Draw a circle\n",
    "cv2.circle(image, (250, 250), 50, (0, 0, 255), -1)\n",
    "\n",
    "cv2.imshow('Shapes', image)\n",
    "cv2.waitKey(0)\n",
    "cv2.destroyAllWindows()"
   ]
  },
  {
   "cell_type": "code",
   "execution_count": null,
   "id": "be21a693-4da6-46fc-9d72-e0d9c856aa52",
   "metadata": {},
   "outputs": [],
   "source": []
  }
 ],
 "metadata": {
  "kernelspec": {
   "display_name": "Python 3 (ipykernel)",
   "language": "python",
   "name": "python3"
  },
  "language_info": {
   "codemirror_mode": {
    "name": "ipython",
    "version": 3
   },
   "file_extension": ".py",
   "mimetype": "text/x-python",
   "name": "python",
   "nbconvert_exporter": "python",
   "pygments_lexer": "ipython3",
   "version": "3.11.5"
  }
 },
 "nbformat": 4,
 "nbformat_minor": 5
}
