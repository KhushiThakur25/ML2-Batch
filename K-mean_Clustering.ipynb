{
 "cells": [
  {
   "cell_type": "code",
   "execution_count": null,
   "id": "9643cac4-7364-4a78-bbcc-fabace4a0b69",
   "metadata": {
    "tags": []
   },
   "outputs": [],
   "source": [
    "import numpy as np\n",
    "import pandas as pd\n",
    "import matplotlib.pyplot as plt\n",
    "from sklearn.cluster import KMeans"
   ]
  },
  {
   "cell_type": "code",
   "execution_count": null,
   "id": "2c7ec71d-5e65-456c-b4c5-3ad42139bbdc",
   "metadata": {
    "tags": []
   },
   "outputs": [],
   "source": [
    "np.random.seed(42)\n",
    "data = {'AnnualIncome':np.random.randint(30000,100000,100),'SpendingScore':np.random.randint(1,100,100)}\n",
    "df = pd.DataFrame(data)\n",
    "print(df)"
   ]
  },
  {
   "cell_type": "code",
   "execution_count": null,
   "id": "fb133b33-41a9-4562-97d8-1f0f8d6a3f16",
   "metadata": {
    "tags": []
   },
   "outputs": [],
   "source": [
    "plt.scatter(df['AnnualIncome'], df['SpendingScore'])\n",
    "plt.title('Customer Data - Annual income vs spending score')\n",
    "plt.xlabel('Annual Income')\n",
    "plt.ylabel('Spending Score')\n",
    "plt.show()"
   ]
  },
  {
   "cell_type": "code",
   "execution_count": null,
   "id": "00196958-60ce-4e3a-986a-0af9763dac0e",
   "metadata": {
    "tags": []
   },
   "outputs": [],
   "source": [
    "X = df.values\n",
    "kmeans = KMeans(n_clusters = 3, random_state = 42)\n",
    "df['Cluster'] = kmeans.fit_predict(X)\n",
    "df"
   ]
  },
  {
   "cell_type": "code",
   "execution_count": null,
   "id": "4e6ff3b7-ff8f-45dd-904d-c809fe2780de",
   "metadata": {
    "tags": []
   },
   "outputs": [],
   "source": [
    "plt.scatter(df['AnnualIncome'], df['SpendingScore'],c = df['Cluster'],cmap='rainbow')\n",
    "plt.title('K-Means Clustering - Annual income vs spending score')\n",
    "plt.xlabel('Annual Income')\n",
    "plt.ylabel('Spending Score')\n",
    "plt.show()"
   ]
  },
  {
   "cell_type": "code",
   "execution_count": null,
   "id": "933b71bb-de61-4ff7-99de-753f29e52943",
   "metadata": {
    "tags": []
   },
   "outputs": [],
   "source": [
    "user_input = {'AnnulaIncome':[75000],'SpendingScore':[70]}\n",
    "user_df = pd.DataFrame(user_input)\n",
    "user_cluster = kmeans.predict(user_df)\n",
    "print(f\"The user belogs to cluster {user_cluster[0]}\")"
   ]
  },
  {
   "cell_type": "code",
   "execution_count": null,
   "id": "e7b18529-88a3-4f55-b6cf-fd392b5a15f8",
   "metadata": {},
   "outputs": [],
   "source": []
  },
  {
   "cell_type": "code",
   "execution_count": null,
   "id": "f560a071-ed95-469a-b242-80ebbaa665f5",
   "metadata": {},
   "outputs": [],
   "source": []
  }
 ],
 "metadata": {
  "kernelspec": {
   "display_name": "Python 3 (ipykernel)",
   "language": "python",
   "name": "python3"
  },
  "language_info": {
   "codemirror_mode": {
    "name": "ipython",
    "version": 3
   },
   "file_extension": ".py",
   "mimetype": "text/x-python",
   "name": "python",
   "nbconvert_exporter": "python",
   "pygments_lexer": "ipython3",
   "version": "3.11.5"
  }
 },
 "nbformat": 4,
 "nbformat_minor": 5
}
