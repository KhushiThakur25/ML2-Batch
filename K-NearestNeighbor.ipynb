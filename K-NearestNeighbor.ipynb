{
 "cells": [
  {
   "cell_type": "code",
   "execution_count": null,
   "id": "8b42cf82-2007-4047-906a-637789e2b20d",
   "metadata": {
    "tags": []
   },
   "outputs": [],
   "source": [
    "import numpy as np\n",
    "from sklearn.model_selection import train_test_split\n",
    "from sklearn.preprocessing import StandardScaler\n",
    "from sklearn.neighbors import KNeighborsClassifier"
   ]
  },
  {
   "cell_type": "code",
   "execution_count": null,
   "id": "35782e45-3134-4b6a-acda-0e7e30149768",
   "metadata": {
    "tags": []
   },
   "outputs": [],
   "source": [
    "data = np.array([[25,50000,2],[30,80000,1],[20,30000,2],[40,90000,4],\n",
    "                [45,75000,1]])\n",
    "labels = np.array([1,2,1,0,1]) # 0:low 1:medium 2:high"
   ]
  },
  {
   "cell_type": "code",
   "execution_count": null,
   "id": "e5d8362e-0721-4fdf-be64-3ac78e465916",
   "metadata": {
    "tags": []
   },
   "outputs": [],
   "source": [
    "X_train,X_test,y_train,y_test = train_test_split(data,labels,test_size=0.2,random_state = 42)\n",
    "X_train"
   ]
  },
  {
   "cell_type": "code",
   "execution_count": null,
   "id": "2243324e-dc87-4819-94ab-6d66eb89a601",
   "metadata": {
    "tags": []
   },
   "outputs": [],
   "source": [
    "scaler =  StandardScaler()"
   ]
  },
  {
   "cell_type": "code",
   "execution_count": null,
   "id": "8ea50623-c842-4583-be7a-fd15d5287fde",
   "metadata": {
    "tags": []
   },
   "outputs": [],
   "source": [
    "X_train = scaler.fit_transform(X_train)\n",
    "X_test = scaler.fit_transform(X_test)\n",
    "X_train"
   ]
  },
  {
   "cell_type": "code",
   "execution_count": null,
   "id": "7f6f558d-8475-4214-9ba0-9a8d7e725af5",
   "metadata": {
    "tags": []
   },
   "outputs": [],
   "source": [
    "knn = KNeighborsClassifier(n_neighbors=3)\n",
    "knn.fit(X_train,y_train)"
   ]
  },
  {
   "cell_type": "code",
   "execution_count": null,
   "id": "3cd54414-54b2-4978-a01e-32160f196b1f",
   "metadata": {
    "tags": []
   },
   "outputs": [],
   "source": [
    "accuracy = knn.score(X_test,y_test)\n",
    "accuracy\n"
   ]
  },
  {
   "cell_type": "code",
   "execution_count": null,
   "id": "44dc8eac-2a8e-463b-9c2a-917a5aadfe61",
   "metadata": {
    "tags": []
   },
   "outputs": [],
   "source": [
    "user_in = np.array([[70,1000,2]])\n",
    "user_input_scaled = scaler.transform(user_in)\n",
    "knn.predict(user_input_scaled)"
   ]
  },
  {
   "cell_type": "code",
   "execution_count": null,
   "id": "8b739d60-5b86-4b63-8e43-b06aaef6ef54",
   "metadata": {},
   "outputs": [],
   "source": []
  }
 ],
 "metadata": {
  "kernelspec": {
   "display_name": "Python 3 (ipykernel)",
   "language": "python",
   "name": "python3"
  },
  "language_info": {
   "codemirror_mode": {
    "name": "ipython",
    "version": 3
   },
   "file_extension": ".py",
   "mimetype": "text/x-python",
   "name": "python",
   "nbconvert_exporter": "python",
   "pygments_lexer": "ipython3",
   "version": "3.11.5"
  }
 },
 "nbformat": 4,
 "nbformat_minor": 5
}
