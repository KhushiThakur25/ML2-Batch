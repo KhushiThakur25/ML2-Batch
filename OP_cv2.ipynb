{
 "cells": [
  {
   "cell_type": "code",
   "execution_count": 1,
   "id": "72a6304d-722d-498b-800e-a7dcc952bdab",
   "metadata": {
    "tags": []
   },
   "outputs": [
    {
     "name": "stdout",
     "output_type": "stream",
     "text": [
      "Defaulting to user installation because normal site-packages is not writeable\n",
      "Requirement already satisfied: opencv-python in c:\\users\\asus\\appdata\\roaming\\python\\python311\\site-packages (4.10.0.84)\n",
      "Requirement already satisfied: numpy>=1.21.2 in c:\\programdata\\anaconda3\\lib\\site-packages (from opencv-python) (1.24.3)\n"
     ]
    }
   ],
   "source": [
    "!pip install opencv-python"
   ]
  },
  {
   "cell_type": "code",
   "execution_count": 2,
   "id": "9526c1df-c567-44e6-8967-79ba73857319",
   "metadata": {
    "tags": []
   },
   "outputs": [],
   "source": [
    "import cv2"
   ]
  },
  {
   "cell_type": "code",
   "execution_count": 16,
   "id": "33756335-580b-47ac-b53c-3d25f76ca8c8",
   "metadata": {
    "tags": []
   },
   "outputs": [
    {
     "data": {
      "text/plain": [
       "array([[[ 37,  62, 166],\n",
       "        [ 37,  62, 166],\n",
       "        [ 37,  62, 166],\n",
       "        ...,\n",
       "        [ 38,  62,  80],\n",
       "        [ 38,  62,  80],\n",
       "        [ 38,  62,  80]],\n",
       "\n",
       "       [[ 31,  57, 163],\n",
       "        [ 31,  57, 163],\n",
       "        [ 31,  57, 163],\n",
       "        ...,\n",
       "        [  9,  33,  51],\n",
       "        [  9,  33,  51],\n",
       "        [  9,  33,  51]],\n",
       "\n",
       "       [[ 30,  56, 164],\n",
       "        [ 30,  56, 164],\n",
       "        [ 30,  56, 164],\n",
       "        ...,\n",
       "        [ 14,  38,  56],\n",
       "        [ 14,  38,  56],\n",
       "        [ 14,  38,  56]],\n",
       "\n",
       "       ...,\n",
       "\n",
       "       [[161, 149, 177],\n",
       "        [162, 150, 178],\n",
       "        [162, 151, 177],\n",
       "        ...,\n",
       "        [ 78, 161, 139],\n",
       "        [ 79, 162, 140],\n",
       "        [ 80, 163, 141]],\n",
       "\n",
       "       [[155, 143, 171],\n",
       "        [156, 144, 172],\n",
       "        [156, 145, 171],\n",
       "        ...,\n",
       "        [ 77, 160, 138],\n",
       "        [ 79, 162, 140],\n",
       "        [ 79, 162, 140]],\n",
       "\n",
       "       [[151, 139, 167],\n",
       "        [152, 140, 168],\n",
       "        [152, 141, 167],\n",
       "        ...,\n",
       "        [ 77, 160, 138],\n",
       "        [ 78, 161, 139],\n",
       "        [ 79, 162, 140]]], dtype=uint8)"
      ]
     },
     "execution_count": 16,
     "metadata": {},
     "output_type": "execute_result"
    }
   ],
   "source": [
    "img = cv2.imread('jerry.jpg')\n",
    "img"
   ]
  },
  {
   "cell_type": "code",
   "execution_count": 4,
   "id": "98161b0e-fc5a-4158-ba99-c4fbc4b68270",
   "metadata": {
    "tags": []
   },
   "outputs": [],
   "source": [
    "#BGR = blue green red\n",
    "#img"
   ]
  },
  {
   "cell_type": "code",
   "execution_count": 5,
   "id": "145dd182-cc81-478a-9d33-ae3bfd5c4229",
   "metadata": {
    "tags": []
   },
   "outputs": [
    {
     "data": {
      "text/plain": [
       "-1"
      ]
     },
     "execution_count": 5,
     "metadata": {},
     "output_type": "execute_result"
    }
   ],
   "source": [
    "cv2.imshow('result',img)\n",
    "cv2.waitKey(0)"
   ]
  },
  {
   "cell_type": "code",
   "execution_count": 6,
   "id": "01c876b9-5398-47bc-a1bc-c9c5c063e685",
   "metadata": {
    "tags": []
   },
   "outputs": [
    {
     "data": {
      "text/plain": [
       "(342, 480, 3)"
      ]
     },
     "execution_count": 6,
     "metadata": {},
     "output_type": "execute_result"
    }
   ],
   "source": [
    "img.shape"
   ]
  },
  {
   "cell_type": "code",
   "execution_count": 7,
   "id": "c84b2639-54f4-428e-9d0f-677bce4c5b1a",
   "metadata": {
    "tags": []
   },
   "outputs": [
    {
     "data": {
      "text/plain": [
       "numpy.ndarray"
      ]
     },
     "execution_count": 7,
     "metadata": {},
     "output_type": "execute_result"
    }
   ],
   "source": [
    "type(img)"
   ]
  },
  {
   "cell_type": "code",
   "execution_count": 8,
   "id": "13e7d54c-ae58-440a-92e2-997c15363ff3",
   "metadata": {
    "tags": []
   },
   "outputs": [
    {
     "data": {
      "text/plain": [
       "-1"
      ]
     },
     "execution_count": 8,
     "metadata": {},
     "output_type": "execute_result"
    }
   ],
   "source": [
    "slice_img = img[50:100,250:350,:]\n",
    "cv2.imshow('result',slice_img)\n",
    "cv2.waitKey(0)"
   ]
  },
  {
   "cell_type": "code",
   "execution_count": 9,
   "id": "2375ab3b-b34a-441a-9462-9046b68957e3",
   "metadata": {
    "tags": []
   },
   "outputs": [
    {
     "data": {
      "text/plain": [
       "-1"
      ]
     },
     "execution_count": 9,
     "metadata": {},
     "output_type": "execute_result"
    }
   ],
   "source": [
    "img[50:100,150:250,:] = slice_img\n",
    "cv2.imshow('result',img)\n",
    "cv2.waitKey(0)"
   ]
  },
  {
   "cell_type": "code",
   "execution_count": 10,
   "id": "293f0e75-5c84-4f61-8416-cfdd1860c5c3",
   "metadata": {
    "tags": []
   },
   "outputs": [],
   "source": [
    "# Noise removal\n",
    "# Image smooting\n",
    "\n",
    "# Gaussian Blur\n",
    "# Median Blur\n",
    "# Bilateral Blur"
   ]
  },
  {
   "cell_type": "code",
   "execution_count": 17,
   "id": "6505e1ef-f794-46b4-a339-776b071f8850",
   "metadata": {
    "tags": []
   },
   "outputs": [],
   "source": [
    "img = cv2.imread('jerry.jpg')\n",
    "img = cv2.cvtColor(img, cv2.COLOR_BGR2RGB)"
   ]
  },
  {
   "cell_type": "code",
   "execution_count": 24,
   "id": "5b16dd98-da87-43c9-8cad-fa5ab77bc2f2",
   "metadata": {
    "tags": []
   },
   "outputs": [
    {
     "data": {
      "text/plain": [
       "-1"
      ]
     },
     "execution_count": 24,
     "metadata": {},
     "output_type": "execute_result"
    }
   ],
   "source": [
    "gaus_img = cv2.GaussianBlur(img, (11,11) ,0)\n",
    "cv2.imshow('result',gaus_img)\n",
    "cv2.waitKey(0)"
   ]
  },
  {
   "cell_type": "code",
   "execution_count": 27,
   "id": "29db98c9-02ab-4b25-a141-11506c3df80d",
   "metadata": {
    "tags": []
   },
   "outputs": [
    {
     "data": {
      "text/plain": [
       "-1"
      ]
     },
     "execution_count": 27,
     "metadata": {},
     "output_type": "execute_result"
    }
   ],
   "source": [
    "median_img = cv2.medianBlur(img, 11)\n",
    "cv2.imshow('result',median_img)\n",
    "cv2.waitKey(0)"
   ]
  },
  {
   "cell_type": "code",
   "execution_count": 14,
   "id": "310e62d7-b16f-4731-bf4d-ba33193d1937",
   "metadata": {
    "tags": []
   },
   "outputs": [],
   "source": [
    "import time"
   ]
  },
  {
   "cell_type": "code",
   "execution_count": 32,
   "id": "b21019cd-c838-45cb-80b3-4793517c7778",
   "metadata": {},
   "outputs": [
    {
     "name": "stdout",
     "output_type": "stream",
     "text": [
      "Video is not found\n"
     ]
    }
   ],
   "source": [
    "video = cv2.VideoCapture('video_1.mp4')\n",
    "ascii_esc = 40\n",
    "delay = 2\n",
    "while True:\n",
    "    flag, frame = video.read()\n",
    "    # time.sleep(10)\n",
    "    # frame = cv2.resize(frame, None, fx = 0.5,fy = 0.5)\n",
    "    if flag:\n",
    "        cv2.imshow('result',frame)\n",
    "        if cv2.waitKey(delay) == ascii_esc:\n",
    "            break\n",
    "    else:\n",
    "        print(\"Video is not found\")\n",
    "        break\n",
    "video.release()\n",
    "cv2.destroyAllWindows()"
   ]
  },
  {
   "cell_type": "code",
   "execution_count": null,
   "id": "53a41ebb-7136-4942-8445-4268d0c5d30f",
   "metadata": {},
   "outputs": [],
   "source": []
  }
 ],
 "metadata": {
  "kernelspec": {
   "display_name": "Python 3 (ipykernel)",
   "language": "python",
   "name": "python3"
  },
  "language_info": {
   "codemirror_mode": {
    "name": "ipython",
    "version": 3
   },
   "file_extension": ".py",
   "mimetype": "text/x-python",
   "name": "python",
   "nbconvert_exporter": "python",
   "pygments_lexer": "ipython3",
   "version": "3.11.5"
  }
 },
 "nbformat": 4,
 "nbformat_minor": 5
}
