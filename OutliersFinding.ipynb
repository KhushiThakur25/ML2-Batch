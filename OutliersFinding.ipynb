{
 "cells": [
  {
   "cell_type": "code",
   "execution_count": null,
   "id": "41005ac9-7446-4f99-a36b-d5800f58bc72",
   "metadata": {
    "tags": []
   },
   "outputs": [],
   "source": [
    "# from sklearn.linear_model import LinearRegression\n",
    "import pandas as pd\n",
    "import numpy as np\n",
    "# from sklearn.preprocessing import MinMaxScaler\n",
    "# from sklearn.model_selection import train_test_split\n",
    "# from sklearn.metrics import mean_squared_error , r2_score"
   ]
  },
  {
   "cell_type": "code",
   "execution_count": null,
   "id": "6a327c51-c4fb-4e79-be0c-32506cff66ee",
   "metadata": {
    "tags": []
   },
   "outputs": [],
   "source": [
    "df = pd.read_csv('diabetes.csv')"
   ]
  },
  {
   "cell_type": "code",
   "execution_count": null,
   "id": "5395b53e-d6fc-49ce-a34a-6a6a5918d4e9",
   "metadata": {
    "tags": []
   },
   "outputs": [],
   "source": [
    "df.head()"
   ]
  },
  {
   "cell_type": "code",
   "execution_count": null,
   "id": "7611f808-a48e-47f6-ac1d-d6947157be3e",
   "metadata": {
    "tags": []
   },
   "outputs": [],
   "source": [
    "import matplotlib.pyplot as plt\n"
   ]
  },
  {
   "cell_type": "code",
   "execution_count": null,
   "id": "e24368d2-2dd0-48a7-94f7-6f036324ebf0",
   "metadata": {
    "tags": []
   },
   "outputs": [],
   "source": [
    "plt.figure(figsize = (6,4))\n",
    "plt.scatter(df['BMI'],df['BloodPressure'])\n",
    "plt.show()"
   ]
  },
  {
   "cell_type": "code",
   "execution_count": null,
   "id": "1edb1049-f92c-4ee6-9258-4e624fa1c3f7",
   "metadata": {
    "tags": []
   },
   "outputs": [],
   "source": [
    "plt.boxplot(df['BloodPressure'])\n",
    "plt.show()"
   ]
  },
  {
   "cell_type": "code",
   "execution_count": null,
   "id": "c83ac0f9-2b14-4f49-9398-591c48adf2d4",
   "metadata": {
    "tags": []
   },
   "outputs": [],
   "source": [
    "q1 = df['BloodPressure'].quantile(0.25)\n",
    "q2 = df['BloodPressure'].quantile(0.50)\n",
    "q3 = df['BloodPressure'].quantile(0.75)\n",
    "q1,q2,q3"
   ]
  },
  {
   "cell_type": "code",
   "execution_count": null,
   "id": "1417e642-c0a6-4258-923b-8b41c10604c1",
   "metadata": {
    "tags": []
   },
   "outputs": [],
   "source": [
    "IQR = q3 - q1\n",
    "IQR"
   ]
  },
  {
   "cell_type": "code",
   "execution_count": null,
   "id": "6a51ce84-3c71-4657-b342-5bb1ba09e1e5",
   "metadata": {
    "tags": []
   },
   "outputs": [],
   "source": [
    "lower_limit = q1 - 1.5*IQR\n",
    "upper_limit = q3 + 1.5*IQR\n",
    "lower_limit,upper_limit"
   ]
  },
  {
   "cell_type": "code",
   "execution_count": null,
   "id": "35a772cf-165b-4258-8b1d-dafcd59a3798",
   "metadata": {
    "tags": []
   },
   "outputs": [],
   "source": [
    "lower_cap = df['BloodPressure'].quantile(0.25)\n",
    "upper_cap = df['BloodPressure'].quantile(0.75)\n",
    "lower_cap,upper_cap"
   ]
  },
  {
   "cell_type": "code",
   "execution_count": null,
   "id": "7c231be9-52f6-41af-b978-7d77dad84b81",
   "metadata": {
    "tags": []
   },
   "outputs": [],
   "source": [
    "df.loc[df['BloodPressure'] > upper_limit] = upper_cap\n",
    "df.loc[df['BloodPressure'] < lower_limit] = lower_cap"
   ]
  },
  {
   "cell_type": "code",
   "execution_count": null,
   "id": "c6ac8f6f-747d-4542-9f55-fe5089384520",
   "metadata": {
    "tags": []
   },
   "outputs": [],
   "source": [
    "plt.boxplot(df['BloodPressure'])\n",
    "plt.show()"
   ]
  },
  {
   "cell_type": "code",
   "execution_count": null,
   "id": "3d4fc7e7-5915-4104-a965-73509c8215b5",
   "metadata": {
    "tags": []
   },
   "outputs": [],
   "source": [
    "X = df.iloc[:, 2:6].values\n",
    "y = df.iloc[:, 4].values"
   ]
  },
  {
   "cell_type": "code",
   "execution_count": null,
   "id": "0310d2d0-ef64-4839-83fb-52ae5086316e",
   "metadata": {
    "tags": []
   },
   "outputs": [],
   "source": [
    "X"
   ]
  },
  {
   "cell_type": "code",
   "execution_count": null,
   "id": "5f6fc4f5-b834-4a33-b26c-3bc0742d21ef",
   "metadata": {
    "tags": []
   },
   "outputs": [],
   "source": [
    "y[0]"
   ]
  },
  {
   "cell_type": "code",
   "execution_count": null,
   "id": "845721d4-e46c-466a-a347-aacf18acbded",
   "metadata": {},
   "outputs": [],
   "source": []
  }
 ],
 "metadata": {
  "kernelspec": {
   "display_name": "Python 3 (ipykernel)",
   "language": "python",
   "name": "python3"
  },
  "language_info": {
   "codemirror_mode": {
    "name": "ipython",
    "version": 3
   },
   "file_extension": ".py",
   "mimetype": "text/x-python",
   "name": "python",
   "nbconvert_exporter": "python",
   "pygments_lexer": "ipython3",
   "version": "3.11.5"
  }
 },
 "nbformat": 4,
 "nbformat_minor": 5
}
