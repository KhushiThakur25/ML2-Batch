{
 "cells": [
  {
   "cell_type": "code",
   "execution_count": 1,
   "id": "3604765a-e3c0-4903-b1ca-8564834c5960",
   "metadata": {
    "tags": []
   },
   "outputs": [
    {
     "name": "stdout",
     "output_type": "stream",
     "text": [
      "['Your', 'beauty', 'radiates', 'like', 'a', 'sunrise', ',', 'illuminating', 'every', 'room', 'with', 'grace', 'and', 'elegance', '.']\n"
     ]
    }
   ],
   "source": [
    "#1. Tokenization\n",
    "from nltk.tokenize import word_tokenize\n",
    "#2. Stopwords\n",
    "from nltk.corpus import stopwords\n",
    "import string\n",
    "#3. Stemming and Lemmatization\n",
    "from nltk.stem import PorterStemmer , WordNetLemmatizer\n",
    "#4. Vectorization\n",
    "from sklearn.feature_extraction.text import CountVectorizer, TfidfVectorizer\n",
    "\n",
    "documents = [\n",
    "    \"Your beauty radiates like a sunrise, illuminating every room with grace and elegance.\",\n",
    "    \"Your presence is a captivating blend of charm and poise, leaving everyone around you in awe.\"\n",
    "]\n",
    "print(word_tokenize(documents[0]))"
   ]
  },
  {
   "cell_type": "code",
   "execution_count": 2,
   "id": "4d62ca43-6506-40c6-9d88-d876d40c1835",
   "metadata": {
    "tags": []
   },
   "outputs": [
    {
     "data": {
      "text/plain": [
       "'!\"#$%&\\'()*+,-./:;<=>?@[\\\\]^_`{|}~'"
      ]
     },
     "execution_count": 2,
     "metadata": {},
     "output_type": "execute_result"
    }
   ],
   "source": [
    "punckt = string.punctuation\n",
    "punckt"
   ]
  },
  {
   "cell_type": "code",
   "execution_count": 3,
   "id": "31a4c2cd-f438-4dc4-a8e0-2fced4421394",
   "metadata": {
    "tags": []
   },
   "outputs": [],
   "source": [
    "# documents[0].translate(punckt)"
   ]
  },
  {
   "cell_type": "code",
   "execution_count": 4,
   "id": "4876e1c0-02fa-47ae-8d67-f2461139c796",
   "metadata": {
    "tags": []
   },
   "outputs": [],
   "source": [
    "table = str.maketrans('','',punckt)"
   ]
  },
  {
   "cell_type": "code",
   "execution_count": 5,
   "id": "415d61e2-48af-4c1d-808a-b0e8c1f5bee3",
   "metadata": {
    "tags": []
   },
   "outputs": [
    {
     "data": {
      "text/plain": [
       "'Your beauty radiates like a sunrise illuminating every room with grace and elegance'"
      ]
     },
     "execution_count": 5,
     "metadata": {},
     "output_type": "execute_result"
    }
   ],
   "source": [
    "documents[0].translate(table)"
   ]
  },
  {
   "cell_type": "code",
   "execution_count": 6,
   "id": "3ace0651-28e8-4296-84bb-f87ee412be97",
   "metadata": {
    "tags": []
   },
   "outputs": [
    {
     "name": "stdout",
     "output_type": "stream",
     "text": [
      "[['your', 'beauty', 'radiates', 'like', 'a', 'sunrise', 'illuminating', 'every', 'room', 'with', 'grace', 'and', 'elegance'], ['your', 'presence', 'is', 'a', 'captivating', 'blend', 'of', 'charm', 'and', 'poise', 'leaving', 'everyone', 'around', 'you', 'in', 'awe']]\n"
     ]
    }
   ],
   "source": [
    "tokens = []\n",
    "for i in range(len(documents)):\n",
    "    c= documents[i].translate(table)\n",
    "    tokens.append(word_tokenize(c.lower()))\n",
    "    \n",
    "print(tokens)\n"
   ]
  },
  {
   "cell_type": "code",
   "execution_count": 7,
   "id": "b34d6ce4-f685-4a31-96fc-f66e4bf18e66",
   "metadata": {
    "tags": []
   },
   "outputs": [],
   "source": [
    "eng_stopwords = stopwords.words(\"english\")"
   ]
  },
  {
   "cell_type": "code",
   "execution_count": 8,
   "id": "5682345d-8ddf-4faf-b28e-28012b0642c4",
   "metadata": {
    "tags": []
   },
   "outputs": [],
   "source": [
    "wordsList = []\n",
    "for token in tokens:\n",
    "    words= []\n",
    "    for element in token:\n",
    "        if element not in eng_stopwords:\n",
    "            words.append(element)\n",
    "    wordsList.append(words)\n",
    "    "
   ]
  },
  {
   "cell_type": "code",
   "execution_count": 9,
   "id": "fcb3c640-0e5d-4fb6-bb1d-9127fb4176a5",
   "metadata": {
    "tags": []
   },
   "outputs": [
    {
     "name": "stdout",
     "output_type": "stream",
     "text": [
      "[['beauty', 'radiates', 'like', 'sunrise', 'illuminating', 'every', 'room', 'grace', 'elegance'], ['presence', 'captivating', 'blend', 'charm', 'poise', 'leaving', 'everyone', 'around', 'awe']]\n"
     ]
    }
   ],
   "source": [
    "print(wordsList)"
   ]
  },
  {
   "cell_type": "code",
   "execution_count": 10,
   "id": "3865ac37-2c8c-4de8-bcc5-86ff4ebf2b4d",
   "metadata": {
    "tags": []
   },
   "outputs": [],
   "source": [
    "# ps = PorterStemmer()\n",
    "# ps.stem(\"playing\")"
   ]
  },
  {
   "cell_type": "code",
   "execution_count": 11,
   "id": "bf3a901f-ff90-48dd-a1ea-e958816b5040",
   "metadata": {
    "tags": []
   },
   "outputs": [],
   "source": [
    "# ps.stem(\"flying\")"
   ]
  },
  {
   "cell_type": "code",
   "execution_count": 12,
   "id": "84ea97e2-4ddb-472c-ba7c-16f37ebc0bdc",
   "metadata": {
    "tags": []
   },
   "outputs": [],
   "source": [
    "wnet = WordNetLemmatizer()"
   ]
  },
  {
   "cell_type": "code",
   "execution_count": 13,
   "id": "2d09d01e-02eb-4937-9cee-9b5b0993963c",
   "metadata": {
    "tags": []
   },
   "outputs": [
    {
     "data": {
      "text/plain": [
       "'playing'"
      ]
     },
     "execution_count": 13,
     "metadata": {},
     "output_type": "execute_result"
    }
   ],
   "source": [
    "# v - verb\n",
    "# n - noun\n",
    "wnet.lemmatize('playing',pos = 'n')"
   ]
  },
  {
   "cell_type": "code",
   "execution_count": 14,
   "id": "ceb70839-5bc4-492d-a429-b0e12195dfb3",
   "metadata": {
    "tags": []
   },
   "outputs": [],
   "source": [
    "for i in range(len(wordsList)):\n",
    "    for j in range(len(wordsList[i])):\n",
    "        wordsList[i][j] = wnet.lemmatize(wordsList[i][j], pos='v')"
   ]
  },
  {
   "cell_type": "code",
   "execution_count": 15,
   "id": "c24d3c8c-1b14-49dc-a573-e5d5877f43da",
   "metadata": {
    "tags": []
   },
   "outputs": [
    {
     "name": "stdout",
     "output_type": "stream",
     "text": [
      "[['beauty', 'radiate', 'like', 'sunrise', 'illuminate', 'every', 'room', 'grace', 'elegance'], ['presence', 'captivate', 'blend', 'charm', 'poise', 'leave', 'everyone', 'around', 'awe']]\n"
     ]
    }
   ],
   "source": [
    "print(wordsList)\n",
    "for i in range(len(wordsList)):\n",
    "    wordsList[i] = \" \".join(wordsList[i]) \n",
    "   \n",
    "\n"
   ]
  },
  {
   "cell_type": "code",
   "execution_count": 16,
   "id": "82e5d43e-f60b-4300-970b-c66e9bff9d85",
   "metadata": {
    "tags": []
   },
   "outputs": [],
   "source": [
    "tfidf = TfidfVectorizer()"
   ]
  },
  {
   "cell_type": "code",
   "execution_count": 17,
   "id": "95172765-c835-45f4-9767-162ac5fe7535",
   "metadata": {
    "tags": []
   },
   "outputs": [
    {
     "data": {
      "text/html": [
       "<style>#sk-container-id-1 {color: black;}#sk-container-id-1 pre{padding: 0;}#sk-container-id-1 div.sk-toggleable {background-color: white;}#sk-container-id-1 label.sk-toggleable__label {cursor: pointer;display: block;width: 100%;margin-bottom: 0;padding: 0.3em;box-sizing: border-box;text-align: center;}#sk-container-id-1 label.sk-toggleable__label-arrow:before {content: \"▸\";float: left;margin-right: 0.25em;color: #696969;}#sk-container-id-1 label.sk-toggleable__label-arrow:hover:before {color: black;}#sk-container-id-1 div.sk-estimator:hover label.sk-toggleable__label-arrow:before {color: black;}#sk-container-id-1 div.sk-toggleable__content {max-height: 0;max-width: 0;overflow: hidden;text-align: left;background-color: #f0f8ff;}#sk-container-id-1 div.sk-toggleable__content pre {margin: 0.2em;color: black;border-radius: 0.25em;background-color: #f0f8ff;}#sk-container-id-1 input.sk-toggleable__control:checked~div.sk-toggleable__content {max-height: 200px;max-width: 100%;overflow: auto;}#sk-container-id-1 input.sk-toggleable__control:checked~label.sk-toggleable__label-arrow:before {content: \"▾\";}#sk-container-id-1 div.sk-estimator input.sk-toggleable__control:checked~label.sk-toggleable__label {background-color: #d4ebff;}#sk-container-id-1 div.sk-label input.sk-toggleable__control:checked~label.sk-toggleable__label {background-color: #d4ebff;}#sk-container-id-1 input.sk-hidden--visually {border: 0;clip: rect(1px 1px 1px 1px);clip: rect(1px, 1px, 1px, 1px);height: 1px;margin: -1px;overflow: hidden;padding: 0;position: absolute;width: 1px;}#sk-container-id-1 div.sk-estimator {font-family: monospace;background-color: #f0f8ff;border: 1px dotted black;border-radius: 0.25em;box-sizing: border-box;margin-bottom: 0.5em;}#sk-container-id-1 div.sk-estimator:hover {background-color: #d4ebff;}#sk-container-id-1 div.sk-parallel-item::after {content: \"\";width: 100%;border-bottom: 1px solid gray;flex-grow: 1;}#sk-container-id-1 div.sk-label:hover label.sk-toggleable__label {background-color: #d4ebff;}#sk-container-id-1 div.sk-serial::before {content: \"\";position: absolute;border-left: 1px solid gray;box-sizing: border-box;top: 0;bottom: 0;left: 50%;z-index: 0;}#sk-container-id-1 div.sk-serial {display: flex;flex-direction: column;align-items: center;background-color: white;padding-right: 0.2em;padding-left: 0.2em;position: relative;}#sk-container-id-1 div.sk-item {position: relative;z-index: 1;}#sk-container-id-1 div.sk-parallel {display: flex;align-items: stretch;justify-content: center;background-color: white;position: relative;}#sk-container-id-1 div.sk-item::before, #sk-container-id-1 div.sk-parallel-item::before {content: \"\";position: absolute;border-left: 1px solid gray;box-sizing: border-box;top: 0;bottom: 0;left: 50%;z-index: -1;}#sk-container-id-1 div.sk-parallel-item {display: flex;flex-direction: column;z-index: 1;position: relative;background-color: white;}#sk-container-id-1 div.sk-parallel-item:first-child::after {align-self: flex-end;width: 50%;}#sk-container-id-1 div.sk-parallel-item:last-child::after {align-self: flex-start;width: 50%;}#sk-container-id-1 div.sk-parallel-item:only-child::after {width: 0;}#sk-container-id-1 div.sk-dashed-wrapped {border: 1px dashed gray;margin: 0 0.4em 0.5em 0.4em;box-sizing: border-box;padding-bottom: 0.4em;background-color: white;}#sk-container-id-1 div.sk-label label {font-family: monospace;font-weight: bold;display: inline-block;line-height: 1.2em;}#sk-container-id-1 div.sk-label-container {text-align: center;}#sk-container-id-1 div.sk-container {/* jupyter's `normalize.less` sets `[hidden] { display: none; }` but bootstrap.min.css set `[hidden] { display: none !important; }` so we also need the `!important` here to be able to override the default hidden behavior on the sphinx rendered scikit-learn.org. See: https://github.com/scikit-learn/scikit-learn/issues/21755 */display: inline-block !important;position: relative;}#sk-container-id-1 div.sk-text-repr-fallback {display: none;}</style><div id=\"sk-container-id-1\" class=\"sk-top-container\"><div class=\"sk-text-repr-fallback\"><pre>TfidfVectorizer()</pre><b>In a Jupyter environment, please rerun this cell to show the HTML representation or trust the notebook. <br />On GitHub, the HTML representation is unable to render, please try loading this page with nbviewer.org.</b></div><div class=\"sk-container\" hidden><div class=\"sk-item\"><div class=\"sk-estimator sk-toggleable\"><input class=\"sk-toggleable__control sk-hidden--visually\" id=\"sk-estimator-id-1\" type=\"checkbox\" checked><label for=\"sk-estimator-id-1\" class=\"sk-toggleable__label sk-toggleable__label-arrow\">TfidfVectorizer</label><div class=\"sk-toggleable__content\"><pre>TfidfVectorizer()</pre></div></div></div></div></div>"
      ],
      "text/plain": [
       "TfidfVectorizer()"
      ]
     },
     "execution_count": 17,
     "metadata": {},
     "output_type": "execute_result"
    }
   ],
   "source": [
    "tfidf.fit(wordsList)"
   ]
  },
  {
   "cell_type": "code",
   "execution_count": 18,
   "id": "7a4d7c16-6daa-4975-bc57-3f52f5d6b7df",
   "metadata": {
    "tags": []
   },
   "outputs": [
    {
     "data": {
      "text/plain": [
       "{'beauty': 2,\n",
       " 'radiate': 15,\n",
       " 'like': 12,\n",
       " 'sunrise': 17,\n",
       " 'illuminate': 10,\n",
       " 'every': 7,\n",
       " 'room': 16,\n",
       " 'grace': 9,\n",
       " 'elegance': 6,\n",
       " 'presence': 14,\n",
       " 'captivate': 4,\n",
       " 'blend': 3,\n",
       " 'charm': 5,\n",
       " 'poise': 13,\n",
       " 'leave': 11,\n",
       " 'everyone': 8,\n",
       " 'around': 0,\n",
       " 'awe': 1}"
      ]
     },
     "execution_count": 18,
     "metadata": {},
     "output_type": "execute_result"
    }
   ],
   "source": [
    "tfidf.vocabulary_"
   ]
  },
  {
   "cell_type": "code",
   "execution_count": 19,
   "id": "8ab39d8c-e0c3-4a79-b5e1-17ac6b464995",
   "metadata": {
    "tags": []
   },
   "outputs": [
    {
     "data": {
      "text/plain": [
       "['around',\n",
       " 'awe',\n",
       " 'beauty',\n",
       " 'blend',\n",
       " 'captivate',\n",
       " 'charm',\n",
       " 'elegance',\n",
       " 'every',\n",
       " 'everyone',\n",
       " 'grace',\n",
       " 'illuminate',\n",
       " 'leave',\n",
       " 'like',\n",
       " 'poise',\n",
       " 'presence',\n",
       " 'radiate',\n",
       " 'room',\n",
       " 'sunrise']"
      ]
     },
     "execution_count": 19,
     "metadata": {},
     "output_type": "execute_result"
    }
   ],
   "source": [
    "sorted(tfidf.vocabulary_)"
   ]
  },
  {
   "cell_type": "code",
   "execution_count": 20,
   "id": "9319fe46-a955-4096-b438-58e8e592317d",
   "metadata": {
    "tags": []
   },
   "outputs": [
    {
     "data": {
      "text/plain": [
       "<2x18 sparse matrix of type '<class 'numpy.float64'>'\n",
       "\twith 18 stored elements in Compressed Sparse Row format>"
      ]
     },
     "execution_count": 20,
     "metadata": {},
     "output_type": "execute_result"
    }
   ],
   "source": [
    "tfidf.fit_transform(wordsList)"
   ]
  },
  {
   "cell_type": "code",
   "execution_count": 22,
   "id": "8209d6eb-a45b-4228-8791-058bc08c6a23",
   "metadata": {
    "tags": []
   },
   "outputs": [],
   "source": [
    "freq = tfidf.fit_transform(wordsList).toarray()"
   ]
  },
  {
   "cell_type": "markdown",
   "id": "cab3c9e2-07a1-4b7a-84e6-27434658dadd",
   "metadata": {
    "tags": []
   },
   "source": [
    "TF-IDF - Term Frequency - INverse Document Frequency"
   ]
  },
  {
   "cell_type": "markdown",
   "id": "e3b02a69-88fe-4cf2-8f4e-71f3e44f2f65",
   "metadata": {},
   "source": [
    "TF = No. of times term w appears in a doc / total no. of terms w in document\n",
    "\n",
    "IDF = log(Total no. of documents / no. of doc with term w)"
   ]
  },
  {
   "cell_type": "code",
   "execution_count": 25,
   "id": "7b06fdc5-b8ae-495f-9f42-5ace9dcd74f8",
   "metadata": {},
   "outputs": [
    {
     "name": "stdout",
     "output_type": "stream",
     "text": [
      "0.33333333333333337\n",
      "0.33333333333333337\n",
      "0.33333333333333337\n",
      "0.33333333333333337\n",
      "0.33333333333333337\n",
      "0.33333333333333337\n",
      "0.33333333333333337\n",
      "0.33333333333333337\n",
      "0.33333333333333337\n"
     ]
    }
   ],
   "source": [
    "ma = 0\n",
    "for i in freq[0]:\n",
    "    if i > ma:\n",
    "        print(i)"
   ]
  },
  {
   "cell_type": "code",
   "execution_count": null,
   "id": "1b5adacd-03be-493a-8d7e-8710d1bf7796",
   "metadata": {},
   "outputs": [],
   "source": []
  }
 ],
 "metadata": {
  "kernelspec": {
   "display_name": "Python 3 (ipykernel)",
   "language": "python",
   "name": "python3"
  },
  "language_info": {
   "codemirror_mode": {
    "name": "ipython",
    "version": 3
   },
   "file_extension": ".py",
   "mimetype": "text/x-python",
   "name": "python",
   "nbconvert_exporter": "python",
   "pygments_lexer": "ipython3",
   "version": "3.11.5"
  }
 },
 "nbformat": 4,
 "nbformat_minor": 5
}
